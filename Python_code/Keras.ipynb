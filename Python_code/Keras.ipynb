{
 "cells": [
  {
   "cell_type": "code",
   "execution_count": 2,
   "metadata": {},
   "outputs": [
    {
     "name": "stderr",
     "output_type": "stream",
     "text": [
      "Using TensorFlow backend.\n"
     ]
    }
   ],
   "source": [
    "from keras.models import Sequential\n",
    "from keras.layers import Dense, Dropout, Activation\n",
    "from keras import regularizers\n",
    "from keras.utils import np_utils\n",
    "from keras.models import model_from_json\n",
    "\n",
    "import numpy as np\n",
    "import pickle\n",
    "from Params import options as opt\n",
    "import os\n",
    "np.random.seed(123)  # for reproducibility\n",
    "\n",
    "from DataClass import DataClass\n",
    "\n",
    "def build_model(x_size,reg):\n",
    "\n",
    "    model = Sequential()\n",
    "    model.add(Dense(x_size,input_shape=(x_size,),\n",
    "                 activation='relu',kernel_regularizer=regularizers.l2(reg)))\n",
    "\n",
    "    # model.add(Dense(x_size,\n",
    "    #              activation='relu',kernel_regularizer=regularizers.l2(reg)))\n",
    "    # model.add(Dense(x_size,\n",
    "    #              activation='relu',kernel_regularizer=regularizers.l2(reg)))\n",
    "\n",
    "    return model\n",
    "\n",
    "\n",
    "def evaluate_epoch_error(model,mixes_filename,masks_filename,batch_size):\n",
    "    data_class = DataClass(mixes_filename, masks_filename, batch_size)\n",
    "    bnewEpoc = False\n",
    "    tot_loss = 0\n",
    "    counter = 0\n",
    "    while bnewEpoc==False :\n",
    "        batch, bnewEpoc = data_class.get_batch()\n",
    "        if bnewEpoc:\n",
    "            break\n",
    "        counter+=1\n",
    "        tot_loss += model.test_on_batch(batch[0], batch[1])\n",
    "    tot_loss /= counter\n",
    "    return tot_loss\n",
    "\n",
    "def evaluate_over_n_first_batches(model,mixes_filename,masks_filename,batch_size,n):\n",
    "    data_class = DataClass(mixes_filename, masks_filename, batch_size)\n",
    "    bnewEpoc = False\n",
    "    tot_loss = 0\n",
    "    counter = 0\n",
    "    while counter < n :\n",
    "        batch, bnewEpoc = data_class.get_batch()\n",
    "        if bnewEpoc:\n",
    "            break\n",
    "        counter+=1\n",
    "        tot_loss += model.test_on_batch(batch[0], batch[1])\n",
    "    tot_loss /= counter\n",
    "    return tot_loss\n",
    "#----------------------------------\n",
    "options = opt\n",
    "\n"
   ]
  },
  {
   "cell_type": "code",
   "execution_count": 3,
   "metadata": {},
   "outputs": [
    {
     "name": "stdout",
     "output_type": "stream",
     "text": [
      "20500\n"
     ]
    }
   ],
   "source": [
    "    x_size = options.L*options.N_BINS #4\n",
    "    print(x_size)\n",
    "    lr = options.lr\n",
    "    batch_size = options.batch_size\n",
    "\n",
    "    # build net\n",
    "    model = build_model(x_size,options.reg)\n",
    "\n",
    "    model.compile(loss='mean_squared_error', optimizer='sgd')\n",
    "    #----------------------------------\n",
    "    data_class = DataClass(options.train_mixes_filename, options.train_masks_filename, batch_size)\n",
    "\n",
    "    if not os.path.exists(options.model_dir+'/KERAS'):\n",
    "        os.makedirs(options.model_dir+'/KERAS')\n",
    "\n",
    "\n",
    "    n_epochs = 0\n",
    "    i = 0\n",
    "    loss_test = 0\n",
    "    loss_vec = []\n",
    "    valid_vec = []\n",
    "\n",
    "    # serialize model to JSON\n",
    "    model_json = model.to_json()\n",
    "    with open(options.model_dir + \"/KERAS/model.json\", \"w\") as json_file:\n",
    "        json_file.write(model_json)\n"
   ]
  },
  {
   "cell_type": "code",
   "execution_count": 22,
   "metadata": {},
   "outputs": [
    {
     "name": "stdout",
     "output_type": "stream",
     "text": [
      "0\n",
      "new Epoc\n",
      "blabla\n"
     ]
    }
   ],
   "source": [
    "# while n_epochs < options.n_epochs:\n",
    "if 1:\n",
    "        print(i)\n",
    "        batch, bnewEpoc = data_class.get_batch()\n",
    "        if bnewEpoc:\n",
    "            n_epochs += 1\n",
    "\n",
    "        x = batch[0]\n",
    "        print('blabla')\n",
    "        y = batch[1]\n",
    "#         x = np.array([[1,2],[3,4]])\n",
    "#         print(x)\n",
    "        model.train_on_batch(x, y)\n",
    "\n",
    "#         if i % options.save_iters == 0:\n",
    "#             loss_train = evaluate_over_n_first_batches(model, options.train_mixes_filename,\n",
    "#                                                        options.train_masks_filename, batch_size, i + 1)\n",
    "#             loss_vec.append(loss_train)\n",
    "#             loss_valid = evaluate_epoch_error(model, options.valid_mixes_filename,\n",
    "#                                               options.valid_masks_filename, batch_size)\n",
    "#             valid_vec.append(loss_valid)\n",
    "#             print('step %d, loss val %g' % (i, loss_valid))\n",
    "\n",
    "#             # serialize weights to HDF5\n",
    "#             model.save_weights(options.model_dir + \"/KERAS/weights_\"+str(i)+\".h5\")\n",
    "\n",
    "#         i += 1\n",
    "#     model.save_weights(options.model_dir + \"/KERAS/weights_final.h5\")\n",
    "\n",
    "#     lossfilename = options.model_dir+'/KERAS/KerasparamsAndloss.pckl'\n",
    "#     f = open(lossfilename, 'wb')\n",
    "#     pickle.dump(loss_vec, f)\n",
    "#     pickle.dump(valid_vec, f)\n",
    "#     pickle.dump(options, f)\n",
    "#     pickle.dump(loss_test, f)\n",
    "#     f.close()\n",
    "\n",
    "# print(\"Saved model to disk\")\n",
    "# # _________________________________________________________________________________\n",
    "\n"
   ]
  },
  {
   "cell_type": "code",
   "execution_count": null,
   "metadata": {},
   "outputs": [],
   "source": []
  }
 ],
 "metadata": {
  "kernelspec": {
   "display_name": "Python 3",
   "language": "python",
   "name": "python3"
  },
  "language_info": {
   "codemirror_mode": {
    "name": "ipython",
    "version": 3
   },
   "file_extension": ".py",
   "mimetype": "text/x-python",
   "name": "python",
   "nbconvert_exporter": "python",
   "pygments_lexer": "ipython3",
   "version": "3.5.4"
  }
 },
 "nbformat": 4,
 "nbformat_minor": 2
}
